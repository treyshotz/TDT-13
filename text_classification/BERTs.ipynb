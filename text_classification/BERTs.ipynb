{
 "metadata": {
  "kernelspec": {
   "language": "python",
   "display_name": "Python 3",
   "name": "python3"
  },
  "language_info": {
   "pygments_lexer": "ipython3",
   "nbconvert_exporter": "python",
   "version": "3.6.4",
   "file_extension": ".py",
   "codemirror_mode": {
    "name": "ipython",
    "version": 3
   },
   "name": "python",
   "mimetype": "text/x-python"
  },
  "kaggle": {
   "accelerator": "gpu",
   "dataSources": [
    {
     "sourceId": 6910344,
     "sourceType": "datasetVersion",
     "datasetId": 3904383
    }
   ],
   "dockerImageVersionId": 30559,
   "isInternetEnabled": true,
   "language": "python",
   "sourceType": "notebook",
   "isGpuEnabled": true
  }
 },
 "nbformat_minor": 4,
 "nbformat": 4,
 "cells": [
  {
   "cell_type": "code",
   "source": [
    "!pip install evaluate\n",
    "!pip install pandas==1.5.3\n",
    "\n",
    "!pip install datasets==2.0.0"
   ],
   "metadata": {
    "execution": {
     "iopub.status.busy": "2023-11-06T13:04:09.855678Z",
     "iopub.execute_input": "2023-11-06T13:04:09.856332Z",
     "iopub.status.idle": "2023-11-06T13:04:55.640605Z",
     "shell.execute_reply.started": "2023-11-06T13:04:09.856305Z",
     "shell.execute_reply": "2023-11-06T13:04:55.639450Z"
    },
    "trusted": true
   },
   "execution_count": null,
   "outputs": []
  },
  {
   "cell_type": "code",
   "source": [
    "import wandb\n",
    "wandb.login(key=\"\")"
   ],
   "metadata": {
    "execution": {
     "iopub.status.busy": "2023-11-06T13:04:55.642690Z",
     "iopub.execute_input": "2023-11-06T13:04:55.643015Z",
     "iopub.status.idle": "2023-11-06T13:04:58.942189Z",
     "shell.execute_reply.started": "2023-11-06T13:04:55.642985Z",
     "shell.execute_reply": "2023-11-06T13:04:58.941282Z"
    },
    "trusted": true
   },
   "execution_count": null,
   "outputs": []
  },
  {
   "cell_type": "code",
   "source": [
    "import evaluate\n",
    "import numpy as np\n",
    "import pandas as pd\n",
    "import torch\n",
    "from datasets import load_dataset\n",
    "from sklearn.metrics import f1_score, roc_auc_score, accuracy_score\n",
    "from tensorflow.python.ops.numpy_ops import np_config\n",
    "from transformers import AutoModelForSequenceClassification, Trainer, AutoTokenizer, TrainingArguments, \\\n",
    "    DataCollatorWithPadding, EvalPrediction\n",
    "\n",
    "device = torch.device(\"cuda:0\" if torch.cuda.is_available() else \"cpu\")\n",
    "np_config.enable_numpy_behavior()\n",
    "accuracy = evaluate.load(\"accuracy\")\n",
    "to_remove = [\n",
    "    'text',\n",
    "    'parent_id',\n",
    "    'district',\n",
    "    'districtId',\n",
    "    'municipality',\n",
    "    'message_id',\n",
    "    'createdOn']\n",
    "\n",
    "training_file = \"/kaggle/input/policelog/output_enc_concat_train.csv\"\n",
    "test_file = \"/kaggle/input/policelog/output_enc_concat_test.csv\""
   ],
   "metadata": {
    "execution": {
     "iopub.status.busy": "2023-11-06T13:04:58.943650Z",
     "iopub.execute_input": "2023-11-06T13:04:58.944175Z",
     "iopub.status.idle": "2023-11-06T13:05:14.125681Z",
     "shell.execute_reply.started": "2023-11-06T13:04:58.944142Z",
     "shell.execute_reply": "2023-11-06T13:05:14.124971Z"
    },
    "trusted": true
   },
   "execution_count": null,
   "outputs": []
  },
  {
   "cell_type": "code",
   "source": [
    "label2id = {'Innbrudd': 0, 'Trafikk': 1, 'Brann': 2, 'Tyveri': 3, 'Ulykke': 4, 'Ro og orden': 5, 'Voldshendelse': 6,\n",
    "            'Andre hendelser': 7, 'Savnet': 8, 'Skadeverk': 9, 'Dyr': 10, 'Sjø': 11, 'Redning': 12, 'Arrangement': 13}\n",
    "id2label = {0: 'Innbrudd', 1: 'Trafikk', 2: 'Brann', 3: 'Tyveri', 4: 'Ulykke', 5: 'Ro og orden', 6: 'Voldshendelse',\n",
    "            7: 'Andre hendelser', 8: 'Savnet', 9: 'Skadeverk', 10: 'Dyr', 11: 'Sjø', 12: 'Redning', 13: 'Arrangement'}\n",
    "labels = list(label2id.keys())"
   ],
   "metadata": {
    "execution": {
     "iopub.status.busy": "2023-11-06T13:05:14.127825Z",
     "iopub.execute_input": "2023-11-06T13:05:14.128383Z",
     "iopub.status.idle": "2023-11-06T13:05:14.134441Z",
     "shell.execute_reply.started": "2023-11-06T13:05:14.128356Z",
     "shell.execute_reply": "2023-11-06T13:05:14.133505Z"
    },
    "trusted": true
   },
   "execution_count": null,
   "outputs": []
  },
  {
   "cell_type": "code",
   "source": [
    "def preprocess_function(examples):\n",
    "    tokenized_text = tokenizer(examples[\"text\"], truncation=True)\n",
    "    labels_batch = examples['label']\n",
    "    labels_matrix = np.zeros((len(tokenized_text.encodings), len(labels)))\n",
    "    for pos, obj in enumerate(labels_batch):\n",
    "        labels_matrix[pos, obj] = 1\n",
    "\n",
    "    tokenized_text[\"label\"] = labels_matrix.tolist()\n",
    "\n",
    "    return tokenized_text\n",
    "\n",
    "\n",
    "def prepare_dataset():\n",
    "    train_logdata = load_dataset(\"csv\", data_files=training_file) \\\n",
    "        .map(preprocess_function, batched=True) \\\n",
    "        .remove_columns(to_remove)\n",
    "    test_logdata = load_dataset(\"csv\", data_files=test_file) \\\n",
    "        .map(preprocess_function, batched=True) \\\n",
    "        .remove_columns(to_remove)\n",
    "    return train_logdata, test_logdata\n",
    "\n",
    "\n",
    "def multi_label_metrics(predictions, labels, threshold=0.5):\n",
    "    sigmoid = torch.nn.Sigmoid()\n",
    "    probs = sigmoid(torch.Tensor(predictions))\n",
    "    y_pred = np.zeros(probs.shape)\n",
    "    y_pred[np.where(probs >= threshold)] = 1\n",
    "    y_true = labels\n",
    "    f1_micro_average = f1_score(y_true=y_true, y_pred=y_pred, average='micro')\n",
    "    roc_auc = roc_auc_score(y_true, y_pred, average='micro')\n",
    "    accuracy = accuracy_score(y_true, y_pred)\n",
    "    metrics = {'f1': f1_micro_average,\n",
    "               'roc_auc': roc_auc,\n",
    "               'accuracy': accuracy}\n",
    "    return metrics\n",
    "\n",
    "\n",
    "def compute_metrics(p: EvalPrediction):\n",
    "    preds = p.predictions[0] if isinstance(p.predictions,\n",
    "                                           tuple) else p.predictions\n",
    "    inc = []\n",
    "    pred = []\n",
    "    for pos, it in enumerate(p.predictions):\n",
    "        if p.predictions[pos].argmax() != p.label_ids[pos].argmax():\n",
    "            inc.append(pos)\n",
    "            pred.append(p.predictions[pos].argmax())\n",
    "\n",
    "    test_df = pd.read_csv(test_file)\n",
    "    test_df = test_df.iloc[inc]\n",
    "    test_df['predicted'] = pred\n",
    "    test_df.to_csv(f\"incorrect_{curr_model.replace('/', '')}.csv\")\n",
    "    result = multi_label_metrics(\n",
    "        predictions=preds,\n",
    "        labels=p.label_ids)\n",
    "    return result"
   ],
   "metadata": {
    "execution": {
     "iopub.status.busy": "2023-11-06T13:05:14.135809Z",
     "iopub.execute_input": "2023-11-06T13:05:14.136072Z",
     "iopub.status.idle": "2023-11-06T13:05:14.238329Z",
     "shell.execute_reply.started": "2023-11-06T13:05:14.136049Z",
     "shell.execute_reply": "2023-11-06T13:05:14.237296Z"
    },
    "trusted": true
   },
   "execution_count": null,
   "outputs": []
  },
  {
   "cell_type": "code",
   "source": [
    "def get_training_args(pre_model):\n",
    "    return TrainingArguments(\n",
    "        output_dir=\"model_run\",\n",
    "        learning_rate=9e-6,\n",
    "        per_device_train_batch_size=8,\n",
    "        per_device_eval_batch_size=8,\n",
    "        do_train=True,\n",
    "        num_train_epochs=20,\n",
    "        weight_decay=0.01,\n",
    "        evaluation_strategy=\"epoch\",\n",
    "        save_strategy=\"epoch\",\n",
    "        load_best_model_at_end=True,\n",
    "        push_to_hub=False,\n",
    "        save_total_limit=4,\n",
    "        run_name=pre_model\n",
    "    )\n"
   ],
   "metadata": {
    "execution": {
     "iopub.status.busy": "2023-11-06T13:05:14.239518Z",
     "iopub.execute_input": "2023-11-06T13:05:14.239835Z",
     "iopub.status.idle": "2023-11-06T13:05:14.252572Z",
     "shell.execute_reply.started": "2023-11-06T13:05:14.239806Z",
     "shell.execute_reply": "2023-11-06T13:05:14.251789Z"
    },
    "trusted": true
   },
   "execution_count": null,
   "outputs": []
  },
  {
   "cell_type": "code",
   "source": [
    "def run_training(pre_model):\n",
    "    global tokenizer\n",
    "    tokenizer = AutoTokenizer.from_pretrained(pre_model)\n",
    "    data_collator = DataCollatorWithPadding(tokenizer=tokenizer)\n",
    "\n",
    "    tokenized_train, tokenized_test = prepare_dataset()\n",
    "\n",
    "    model = AutoModelForSequenceClassification.from_pretrained(\n",
    "        pre_model, num_labels=14, id2label=id2label, label2id=label2id, trust_remote_code=True,\n",
    "        problem_type=\"multi_label_classification\"\n",
    "    ).to(device)\n",
    "\n",
    "    trainer = Trainer(\n",
    "        model=model,\n",
    "        args=get_training_args(pre_model),\n",
    "        train_dataset=tokenized_train[\"train\"],\n",
    "        eval_dataset=tokenized_test[\"train\"],\n",
    "        tokenizer=tokenizer,\n",
    "        data_collator=data_collator,\n",
    "        compute_metrics=compute_metrics,\n",
    "    )\n",
    "    trainer.train()\n",
    "    trainer.evaluate()"
   ],
   "metadata": {
    "execution": {
     "iopub.status.busy": "2023-11-06T13:05:14.253603Z",
     "iopub.execute_input": "2023-11-06T13:05:14.253905Z",
     "iopub.status.idle": "2023-11-06T13:05:14.267481Z",
     "shell.execute_reply.started": "2023-11-06T13:05:14.253880Z",
     "shell.execute_reply": "2023-11-06T13:05:14.266630Z"
    },
    "trusted": true
   },
   "execution_count": null,
   "outputs": []
  },
  {
   "cell_type": "code",
   "source": [
    "# mBERT\n",
    "curr_model = \"bert-base-multilingual-cased\"\n",
    "run_training(curr_model)"
   ],
   "metadata": {
    "execution": {
     "iopub.status.busy": "2023-11-06T13:05:14.268662Z",
     "iopub.execute_input": "2023-11-06T13:05:14.268997Z",
     "iopub.status.idle": "2023-11-06T14:08:24.051316Z",
     "shell.execute_reply.started": "2023-11-06T13:05:14.268973Z",
     "shell.execute_reply": "2023-11-06T14:08:24.050112Z"
    },
    "trusted": true
   },
   "execution_count": null,
   "outputs": []
  },
  {
   "cell_type": "code",
   "source": [
    "curr_model = \"bert-base-cased\"\n",
    "run_training(curr_model)"
   ],
   "metadata": {
    "execution": {
     "iopub.status.busy": "2023-11-06T14:08:24.052649Z",
     "iopub.execute_input": "2023-11-06T14:08:24.053059Z",
     "iopub.status.idle": "2023-11-06T15:24:10.094308Z",
     "shell.execute_reply.started": "2023-11-06T14:08:24.053029Z",
     "shell.execute_reply": "2023-11-06T15:24:10.093113Z"
    },
    "trusted": true
   },
   "execution_count": null,
   "outputs": []
  },
  {
   "cell_type": "code",
   "source": [
    "curr_model = \"ltg/norbert3-base\"\n",
    "run_training(curr_model)"
   ],
   "metadata": {
    "execution": {
     "iopub.status.busy": "2023-11-06T15:24:10.098259Z",
     "iopub.execute_input": "2023-11-06T15:24:10.098552Z",
     "iopub.status.idle": "2023-11-06T16:58:41.733033Z",
     "shell.execute_reply.started": "2023-11-06T15:24:10.098525Z",
     "shell.execute_reply": "2023-11-06T16:58:41.731978Z"
    },
    "trusted": true
   },
   "execution_count": null,
   "outputs": []
  }
 ]
}
